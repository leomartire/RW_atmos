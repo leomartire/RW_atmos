{
 "cells": [
  {
   "cell_type": "markdown",
   "id": "usual-enemy",
   "metadata": {},
   "source": [
    "# **RW-atmos** \n",
    "*Analytical computation of Rayleigh-wave induced acoustic waves*\n",
    "\n",
    "---\n",
    "\n",
    "\n",
    "User-defined options:\n",
    "\n",
    "1.   Fix physical domain boundaries\n",
    "2.   Choose a source mechanism\n",
    "3.   Set atmospheric parameters\n",
    "4.   Choose display characteristics\n",
    "\n",
    "Additionally, to set the seismic model, upload a file called \"Ridgecrest_seismic.txt\" in folder 'RW_atmos' with format:\n",
    "\n",
    "`depth (m) rho (kg/m^3) vp (m/s) vs (m/s) Qs Qp`\n",
    "\n",
    "And then run cell that shows **#2** \n",
    "\n",
    "To set the atmosphere model, upload a file called \"atmospheric_model.dat\" in folder 'RW_atmos' with format:\n",
    "\n",
    "`z (m) rho (kg/m^3) cpa (m/s) p (Pa) g (m/s^2) kappa (Pa.s) mu (Pa.s) bulk (Pa.s) wx (m/s) wy (m/s) cp (J/K.kg) cv (J/K.kg) gamma`\n",
    "\n",
    "And then run cell that shows **#4** \n",
    "\n",
    "To run the code: Got to Runtime -> Run all (ctrl + F9)\n",
    "\n",
    "\n",
    "---\n",
    "\n",
    "\n",
    "Dispersion equations in the atmosphere can be found in: *Godin, O. A. (2014). Dissipation of acoustic-gravity waves: An asymptotic approach. The Journal of the Acoustical Society of America, 136(6), EL411-EL417.*\n",
    "\n",
    "Seismic Green's functions can be found in: *Aki, K., & Richards, P. G. (2002). Quantitative seismology.*"
   ]
  },
  {
   "cell_type": "code",
   "execution_count": 1,
   "id": "wicked-traveler",
   "metadata": {},
   "outputs": [],
   "source": [
    "import os\n",
    "import RW_atmos, RW_dispersion, velocity_models\n",
    "import mechanisms as mod_mechanisms\n",
    "from obspy.core.utcdatetime import UTCDateTime\n",
    "import matplotlib.pyplot as plt\n",
    "%matplotlib inline"
   ]
  },
  {
   "cell_type": "markdown",
   "id": "thirty-columbia",
   "metadata": {},
   "source": [
    "**Define the x / z boundaries of the physical domain as well as the frequency range**\n",
    "\n",
    "\n",
    "*   Note that you will end up with a lot of aliasing if your model's dimensions are too small.\n",
    "*   Take the number of frequencies as a power of 2\n",
    "*   A large domain in options_source will lead to a very-large computational time"
   ]
  },
  {
   "cell_type": "code",
   "execution_count": 2,
   "id": "rocky-transfer",
   "metadata": {},
   "outputs": [],
   "source": [
    "## Sample path name of the directory created to store data and figures\n",
    "name_sample               = './RIDGECREST_XXX/'\n",
    "\n",
    "## RW-atmos integration options\n",
    "options = {}\n",
    "options['dimension']         = 3 # atmospheric dimension\n",
    "options['dimension_seismic'] = 3 # seismic dimension\n",
    "options['ATTENUATION']    = True # using Graves, Broadband ground-motion simulation using a hybrid approach, 2014\n",
    "options['COMPUTE_MAPS']   = False # Compute and plot x,y,z wavefield\n",
    "options['nb_freq']        = 2**9\n",
    "options['nb_kxy']         = 2**7\n",
    "options['coef_low_freq']  = 0.001 # minimum frequency (Hz)\n",
    "options['coef_high_freq'] = 5. # maximum frequency (Hz)\n",
    "options['nb_layers']      = 100 # Number of seismic layers for discretization\n",
    "options['zmax']           = 60000. # maximum depth (m)\n",
    "options['nb_modes']       = [0, 50] # min, max number of modes\n",
    "options['t_chosen']       = [40., 90.] # time (s) to display wavefield\n",
    "options['models'] = {}\n",
    "options['models']['specfem'] = './Ridgecrest_seismic.txt'\n",
    "options['type_model']        = 'specfem' # specfem or specfem2d\n",
    "\n",
    "## Source parameters\n",
    "options_source = {}\n",
    "options_source['stf-data'] = [] # file where stf is located\n",
    "options_source['stf']      = 'gaussian' # gaussian or erf\n",
    "options_source['f0']       = 5. # dominant freuqency (Hz)\n",
    "options_source['lat_min'] = 35. \n",
    "options_source['lat_max'] = 36.\n",
    "options_source['lon_min'] = -118.\n",
    "options_source['lon_max'] = -117.\n",
    "\n",
    "## Load sources from Earthquake catalog or build custom source\n",
    "options_source['DIRECTORY_MECHANISMS'] = []\n",
    "options_source['sources'] = []\n",
    "source_characteristics = { # example of custom source\n",
    "    'id': 0,\n",
    "    'time': UTCDateTime(2019, 8, 9, 0, 9, 57),\n",
    "    'mag': 2.98,\n",
    "    'lat': 35.895,\n",
    "    'lon': -117.679,\n",
    "    'depth': 4.1, #km\n",
    "    'strike': 159,\n",
    "    'dip': 89,\n",
    "    'rake': -156,\n",
    "}\n",
    "options_source['sources'].append( source_characteristics )\n",
    "list_of_events = [0] # list of event to compute, leave empty if you want all    \n",
    "options_source['add_SAC'] = False # Wheter or not add real station locations downloaded from IRIS within the domain\n",
    "                                  # boundaries defined in options_source['lat_min'], options_source['lat_max'], ...\n",
    "\n",
    "## Stations\n",
    "options_IRIS = {}\n",
    "options_IRIS['network'] = 'CI,NN,GS,SN,PB,ZY'\n",
    "options_IRIS['channel'] = 'HHZ,HNZ,DPZ,BNZ,BHZ,ENZ,EHZ'\n",
    "options_IRIS['stations'] = {}\n",
    "x, y, z, comp, name, id = 100., 1000., 0., 'HHZ', 'test', 0\n",
    "options_IRIS['stations'][id] = mod_mechanisms.create_one_station(x, y, z, comp, name, id)\n",
    "\n",
    "## Load balloon data\n",
    "options_balloon = {}"
   ]
  },
  {
   "cell_type": "markdown",
   "id": "paperback-trinity",
   "metadata": {},
   "source": [
    "**You can plot the requested source mechanisms**"
   ]
  },
  {
   "cell_type": "code",
   "execution_count": 3,
   "id": "involved-astronomy",
   "metadata": {},
   "outputs": [
    {
     "data": {
      "image/png": "[encoded data removed]",
      "text/plain": [
       "<Figure size 432x288 with 1 Axes>"
      ]
     },
     "metadata": {
      "needs_background": "light"
     },
     "output_type": "display_data"
    }
   ],
   "source": [
    "from pyrocko import moment_tensor as mtm\n",
    "from obspy.imaging.beachball import beach\n",
    "## Plot custom sources\n",
    "for source in options_source['sources']:\n",
    "    \n",
    "    mw = source['mag']\n",
    "    m0 = mtm.magnitude_to_moment(mw)  # convert the mag to moment\n",
    "    strike, dip, rake = source['strike'], source['dip'], source['rake']\n",
    "    mt = mtm.MomentTensor(strike=strike, dip=dip, rake=rake, scalar_moment=m0)\n",
    "    \n",
    "    fig = plt.figure()\n",
    "    ax = fig.add_subplot(111)\n",
    "\n",
    "    aa = (mt.m6_up_south_east()*m0).tolist()\n",
    "    bball = beach(aa, xy=(0., 0.), width=200, linewidth=1, axes=ax)\n",
    "    bball.set_zorder(100)\n",
    "    ax.add_collection(bball)\n",
    "\n",
    "    plt.title('$M_w$ ' + str(round(mw, 2)) + ' - $f_0 = ' +str(round(options_source['f0'],3))+ '$ Hz'+ ' - depth $ = ' +str(round(source['depth'],3))+ '$ km')\n",
    "    plt.xlim([-0.5, 0.5])\n",
    "    plt.ylim([-0.5, 0.5])"
   ]
  },
  {
   "cell_type": "markdown",
   "id": "ordered-insight",
   "metadata": {},
   "source": [
    "**Construct source mechanisms and stations for RW atmos**"
   ]
  },
  {
   "cell_type": "code",
   "execution_count": 4,
   "id": "ignored-faith",
   "metadata": {},
   "outputs": [
    {
     "name": "stdout",
     "output_type": "stream",
     "text": [
      "Loading source and stations for event 0\n"
     ]
    }
   ],
   "source": [
    "## ugly hack: copy options from one dict to another & initialize other options only relevant to Ridgecrest\n",
    "options_source['coef_high_freq'] = options['coef_high_freq']\n",
    "options_source['nb_kxy']   = options['nb_kxy']\n",
    "options_source['t_chosen'] = options['t_chosen']\n",
    "options_source['activate_LA'] = False # Only relevant for Ridgecrest study\n",
    "options_source['rotation'] = False \n",
    "options['USE_SPAWN_MPI'] = False\n",
    "options['force_dimension'] = False # Only when add_specfem_simu = True\n",
    "options['force_f0_source'] = False\n",
    "mechanism, station, domain = {}, {}, {}\n",
    "keys_mechanism = ['EVID', 'stf', 'stf-data', 'zsource', 'f0', 'M0', 'M', 'phi', 'station_tab', 'mt']\n",
    "\n",
    "## Load mechanisms/stations data\n",
    "mechanisms_data = mod_mechanisms.load_source_mechanism_IRIS(options_source, options_IRIS, dimension=options['dimension'], \n",
    "                                                                    add_SAC = options_source['add_SAC'], add_perturbations = False, \n",
    "                                                                    specific_events=list_of_events, options_balloon=options_balloon)"
   ]
  },
  {
   "cell_type": "markdown",
   "id": "incorrect-framing",
   "metadata": {},
   "source": [
    "**Compute Rayleigh-wave dispersion and surface wavefield**"
   ]
  },
  {
   "cell_type": "code",
   "execution_count": 5,
   "id": "faced-annex",
   "metadata": {},
   "outputs": [
    {
     "name": "stdout",
     "output_type": "stream",
     "text": [
      "Generate velocity and option files to run earthsr.\n",
      " model: ./coefs_batch_1//input_code_earthsr\n"
     ]
    },
    {
     "name": "stderr",
     "output_type": "stream",
     "text": [
      "/usr/local/lib/python3.9/site-packages/pandas/core/indexing.py:1637: SettingWithCopyWarning: \n",
      "A value is trying to be set on a copy of a slice from a DataFrame\n",
      "\n",
      "See the caveats in the documentation: https://pandas.pydata.org/pandas-docs/stable/user_guide/indexing.html#returning-a-view-versus-a-copy\n",
      "  self._setitem_single_block(indexer, value, name)\n"
     ]
    },
    {
     "name": "stdout",
     "output_type": "stream",
     "text": [
      "         0       1       2       3    4    5\n",
      "0      0.0  2500.0  4340.0  2600.0  130  260\n",
      "1   2500.0  2770.0  5880.0  3500.0  175  350\n",
      "2   5500.0  2900.0  6300.0  3600.0  180  360\n",
      "3  30000.0  3100.0  7740.0  4500.0  225  450\n",
      "Building eigenfunctions: [                                        ]"
     ]
    },
    {
     "name": "stderr",
     "output_type": "stream",
     "text": [
      "/usr/local/lib/python3.9/site-packages/pandas/core/indexing.py:1637: SettingWithCopyWarning: \n",
      "A value is trying to be set on a copy of a slice from a DataFrame\n",
      "\n",
      "See the caveats in the documentation: https://pandas.pydata.org/pandas-docs/stable/user_guide/indexing.html#returning-a-view-versus-a-copy\n",
      "  self._setitem_single_block(indexer, value, name)\n"
     ]
    },
    {
     "name": "stdout",
     "output_type": "stream",
     "text": [
      "] Done\n",
      "Store eigenfunctions: [                                        ]--] Done\n"
     ]
    }
   ],
   "source": [
    "Green_RW, options_out = RW_dispersion.compute_trans_coefficients(options)"
   ]
  },
  {
   "cell_type": "markdown",
   "id": "automotive-prison",
   "metadata": {},
   "source": [
    "**Move temporary files/folders to permanent folder**"
   ]
  },
  {
   "cell_type": "code",
   "execution_count": 8,
   "id": "joint-tuition",
   "metadata": {},
   "outputs": [
    {
     "data": {
      "text/plain": [
       "256"
      ]
     },
     "execution_count": 8,
     "metadata": {},
     "output_type": "execute_result"
    }
   ],
   "source": [
    "## Move temporary folder in new folder\n",
    "os.system('mv ' + options_out['global_folder'] + ' ' + name_sample.replace('XXX', 'tocopy'))"
   ]
  },
  {
   "cell_type": "markdown",
   "id": "contained-female",
   "metadata": {},
   "source": [
    "**Solve atmospheric dispersion equations for each source and plot results**"
   ]
  },
  {
   "cell_type": "code",
   "execution_count": 9,
   "id": "vocational-howard",
   "metadata": {},
   "outputs": [
    {
     "data": {
      "image/png": "[encoded data removed]",
      "text/plain": [
       "<Figure size 432x288 with 1 Axes>"
      ]
     },
     "metadata": {
      "needs_background": "light"
     },
     "output_type": "display_data"
    }
   ],
   "source": [
    "## Save all mechanisms to current folder\n",
    "mod_mechanisms.save_mt(mechanisms_data, name_sample.replace('XXX', 'tocopy'))\n",
    "## Loop over each mechanism to generate the atmospheric wavefield\n",
    "for imecha, mechanism_ in mechanisms_data.iterrows():\n",
    "\n",
    "    options_out['global_folder'] = name_sample.replace('XXX', str(imecha+1))\n",
    "    os.system('cp -R ' + name_sample.replace('XXX', 'tocopy')[:-1] + ' ' + options_out['global_folder'])\n",
    "    Green_RW.set_global_folder(options_out['global_folder'])\n",
    "\n",
    "    mechanism = {}\n",
    "    for key in keys_mechanism:\n",
    "            mechanism[key] = mechanism_[key]\n",
    "\n",
    "    ## Station distribution\n",
    "    mod_mechanisms.display_map_stations(mechanism_['EVID'], mechanism_['station_tab'], mechanism_['domain'], options_out['global_folder'])\n",
    "    "
   ]
  },
  {
   "cell_type": "code",
   "execution_count": 10,
   "id": "united-graphics",
   "metadata": {},
   "outputs": [
    {
     "name": "stdout",
     "output_type": "stream",
     "text": [
      "Building time series: [                                        -] Done\n",
      "save waveform to: ./RIDGECREST_1/waveform_HHZ_test_0.1_1.0_0.0.csv\n",
      "save waveform to: ./RIDGECREST_1/RW_waveform_z0_HHZ_test_0.1_1.0_0.0.csv\n"
     ]
    },
    {
     "name": "stderr",
     "output_type": "stream",
     "text": [
      "/usr/local/lib/python3.9/site-packages/obspy/signal/filter.py:67: UserWarning: Selected high corner frequency (5.0) of bandpass is at or above Nyquist (5.0). Applying a high-pass instead.\n",
      "  warnings.warn(msg)\n",
      "/usr/local/lib/python3.9/site-packages/obspy/signal/tf_misfit.py:1501: MatplotlibDeprecationWarning: shading='flat' when X and Y have the same dimensions as C is deprecated since 3.3.  Either specify the corners of the quadrilaterals with X and Y, or pass shading='auto', 'nearest' or 'gouraud', or set rcParams['pcolor.shading'].  This will become an error two minor releases later.\n",
      "  img_tfr = ax_tfr.pcolormesh(x, y, _tfr[itr], cmap=cmap)\n"
     ]
    },
    {
     "name": "stdout",
     "output_type": "stream",
     "text": [
      "Finished generating figures in folder: ./RIDGECREST_1/\n"
     ]
    }
   ],
   "source": [
    "## Save all mechanisms to current folder\n",
    "mod_mechanisms.save_mt(mechanisms_data, name_sample.replace('XXX', 'tocopy'))\n",
    "## Loop over each mechanism to generate the atmospheric wavefield\n",
    "for imecha, mechanism_ in mechanisms_data.iterrows():\n",
    "\n",
    "    options_out['global_folder'] = name_sample.replace('XXX', str(imecha+1))\n",
    "    os.system('cp -R ' + name_sample.replace('XXX', 'tocopy')[:-1] + ' ' + options_out['global_folder'])\n",
    "    Green_RW.set_global_folder(options_out['global_folder'])\n",
    "\n",
    "    mechanism = {}\n",
    "    for key in keys_mechanism:\n",
    "            mechanism[key] = mechanism_[key]\n",
    "\n",
    "    ## Station distribution\n",
    "    mod_mechanisms.display_map_stations(mechanism_['EVID'], mechanism_['station_tab'], mechanism_['domain'], options_out['global_folder'])\n",
    "    \n",
    "    ## Generate atmospheric model\n",
    "    station = mechanism_['station_tab']\n",
    "    domain  = mechanism_['domain']\n",
    "    param_atmos = velocity_models.generate_default_atmos()\n",
    "\n",
    "    ## Solve dispersion equations\n",
    "    RW_atmos.compute_analytical_acoustic(Green_RW, mechanism, param_atmos, station, domain, options_out)"
   ]
  },
  {
   "cell_type": "code",
   "execution_count": null,
   "id": "ceramic-senior",
   "metadata": {},
   "outputs": [],
   "source": []
  }
 ],
 "metadata": {
  "kernelspec": {
   "display_name": "Python 3",
   "language": "python",
   "name": "python3"
  },
  "language_info": {
   "codemirror_mode": {
    "name": "ipython",
    "version": 3
   },
   "file_extension": ".py",
   "mimetype": "text/x-python",
   "name": "python",
   "nbconvert_exporter": "python",
   "pygments_lexer": "ipython3",
   "version": "3.9.4"
  }
 },
 "nbformat": 4,
 "nbformat_minor": 5
}
